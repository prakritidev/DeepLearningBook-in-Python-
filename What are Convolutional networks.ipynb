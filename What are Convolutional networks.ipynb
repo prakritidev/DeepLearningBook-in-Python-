{
 "cells": [
  {
   "cell_type": "markdown",
   "metadata": {},
   "source": [
    "# Convolutional Neural network"
   ]
  },
  {
   "cell_type": "markdown",
   "metadata": {},
   "source": [
    "Convolutional networks(LeCun, 1989), also known as convolutional neural networks"
   ]
  },
  {
   "cell_type": "markdown",
   "metadata": {},
   "source": [
    "------------------------------------------------------------"
   ]
  },
  {
   "cell_type": "markdown",
   "metadata": {},
   "source": [
    "These networks are a specialized kind of neural netwoks for processing that has a known **grid-like topology**(e.g Images as a 2D grid of pixels, time-series data as  1D grid taking samples at regular time intervals). \n",
    "\n",
    "\n",
    "This network  employs a mathematical operation called convolution(linear operation): Convolutional networks are simply neural networks that use convolution in place of general matrixmultiplication in at least one of their layers "
   ]
  },
  {
   "cell_type": "markdown",
   "metadata": {},
   "source": [
    "# Convolution Operation:(Linear Operation)"
   ]
  },
  {
   "cell_type": "markdown",
   "metadata": {},
   "source": [
    "Convolution is an operation on two functions of a real-valued argument. \n",
    "\n",
    "\n",
    "Lets take an example of a car with a GPS system. Our GPS provides a single output x(t), the position of car at time t.  \n",
    "\n",
    "Now suppose GPS output is noisy. To obtain a less noisy estimate of a car's position we would like to average together several msasurements. \n",
    "\n",
    "More recent measurements are more relevant, so we want this to be a weighted average that gives more weight to recent measurements. \n",
    "\n",
    "\n",
    "If we apply such a weighted average operation at every moment, we obtain a newfunction s providing a smoothed estimate of the position of the  car:\n",
    "\n",
    "**s(t) = Intergal(x(a)w(t − a)da)**\n",
    "\n",
    "\n",
    "a is the age of a measurement\n",
    "\n",
    "\n",
    "In convolutional network terminology, the ﬁrst argument ( example of Images(MNIST)) to the convolution is often referred to as the **input** and the second argument (We can take an example of patch) as the **kernel**. The output is sometimes referred to as the **feature map**\n",
    "\n",
    "s(t) = (x ∗ w)(t)\n",
    "\n",
    "\n",
    "\n",
    "\n",
    "\n"
   ]
  },
  {
   "cell_type": "markdown",
   "metadata": {},
   "source": [
    "######  Explaning MNIST architecture \n",
    "\n",
    "Input -> convolution layer -> activation map -> convolutional layer -> activation map -> convolutional layer -> activation map ->fully connevted layer"
   ]
  },
  {
   "cell_type": "code",
   "execution_count": null,
   "metadata": {
    "collapsed": true
   },
   "outputs": [],
   "source": []
  }
 ],
 "metadata": {
  "anaconda-cloud": {},
  "kernelspec": {
   "display_name": "Python [Root]",
   "language": "python",
   "name": "Python [Root]"
  },
  "language_info": {
   "codemirror_mode": {
    "name": "ipython",
    "version": 3
   },
   "file_extension": ".py",
   "mimetype": "text/x-python",
   "name": "python",
   "nbconvert_exporter": "python",
   "pygments_lexer": "ipython3",
   "version": "3.5.2"
  }
 },
 "nbformat": 4,
 "nbformat_minor": 2
}
