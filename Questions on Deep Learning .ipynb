{
 "cells": [
  {
   "cell_type": "markdown",
   "metadata": {},
   "source": [
    "# Collection of question from Web on Deep Learning  "
   ]
  },
  {
   "cell_type": "markdown",
   "metadata": {},
   "source": [
    "###### What is the difference between Neural Networks and Deep Neural Network(Deep Learning)"
   ]
  },
  {
   "cell_type": "markdown",
   "metadata": {},
   "source": [
    "Deep Learning is about constructing machine learning models that learn a hierarchical representation of the data.\n",
    "\n",
    "Neural Networks, are a class of machine learning algorithms. The artificial neuron forms the computational unit of the model and the network describes how these units are connected to one another. You can describe a hierarchical model with Neural Networks where each layer of neurons represents a level in that hierarchy. There is no real restriction in how many layers you can add to a network but going beyond two layers, was impractical in the past with diminishing returns. The limitations were overcome with algorithmic advances, availability of large volumes of training data and accelerated GPU computing. People started adding more layers again, resulting in Deep Neural Networks with much success. They demonstrated how Neural Networks with lots of layers enabled constructing the representations required for deep learning.\n",
    "\n",
    "Today, People tend to view that one implies the other. Indeed, Deep Neural Networks are the showcase for Deep Learning. Some argue that Decision trees and Hierarchical temporal memory qualify as non-neural deep learning models. The point is that the concept of Deep Learning is not tied to Neural Networks but is very well demonstrated through them.\n",
    "\n",
    "Answer by-> Youssef Kashef, PhD student in Computer Vision and Machine Learning on Quora."
   ]
  },
  {
   "cell_type": "code",
   "execution_count": null,
   "metadata": {
    "collapsed": true
   },
   "outputs": [],
   "source": []
  }
 ],
 "metadata": {
  "anaconda-cloud": {},
  "kernelspec": {
   "display_name": "Python [Root]",
   "language": "python",
   "name": "Python [Root]"
  },
  "language_info": {
   "codemirror_mode": {
    "name": "ipython",
    "version": 3
   },
   "file_extension": ".py",
   "mimetype": "text/x-python",
   "name": "python",
   "nbconvert_exporter": "python",
   "pygments_lexer": "ipython3",
   "version": "3.5.2"
  }
 },
 "nbformat": 4,
 "nbformat_minor": 2
}
